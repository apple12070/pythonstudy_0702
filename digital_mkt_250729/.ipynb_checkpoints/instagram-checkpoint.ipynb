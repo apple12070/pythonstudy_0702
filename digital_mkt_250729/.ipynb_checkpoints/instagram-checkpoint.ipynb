{
 "cells": [
  {
   "cell_type": "code",
   "execution_count": 1,
   "id": "45d051c5-fba2-49f2-94dc-3e4309b4cb83",
   "metadata": {},
   "outputs": [
    {
     "name": "stdout",
     "output_type": "stream",
     "text": [
      "수동으로 인증 시작!\n",
      "쿠키 저장 완료\n"
     ]
    }
   ],
   "source": [
    "from selenium import webdriver\n",
    "from selenium.webdriver.chrome.service import Service\n",
    "from selenium.webdriver.chrome.options import Options\n",
    "from webdriver_manager.chrome import ChromeDriverManager\n",
    "import pickle\n",
    "import time\n",
    "\n",
    "options = Options()\n",
    "options.add_argument(\"--start-maximized\")\n",
    "options.add_argument(\"window-size=1920x1080\")\n",
    "options.add_argument(\"lang=ko_KR\")\n",
    "\n",
    "service = Service(ChromeDriverManager().install())\n",
    "\n",
    "driver = webdriver.Chrome(service=service, options=options)\n",
    "\n",
    "driver.get(\"https://www.instagram.com/accounts/login\")\n",
    "print(\"수동으로 인증 시작!\")\n",
    "time.sleep(30)\n",
    "\n",
    "with open(\"instagram_cookies.pkl\", \"wb\") as f :\n",
    "    pickle.dump(driver.get_cookies(), f)\n",
    "\n",
    "print(\"쿠키 저장 완료\")\n",
    "driver.quit()"
   ]
  },
  {
   "cell_type": "code",
   "execution_count": 2,
   "id": "c69f9aa1-9f1a-4f51-a995-dfd547a38929",
   "metadata": {},
   "outputs": [
    {
     "ename": "SyntaxError",
     "evalue": "unterminated string literal (detected at line 68) (1383451534.py, line 68)",
     "output_type": "error",
     "traceback": [
      "\u001b[0;36m  Cell \u001b[0;32mIn[2], line 68\u001b[0;36m\u001b[0m\n\u001b[0;31m    print(\"+)\u001b[0m\n\u001b[0m          ^\u001b[0m\n\u001b[0;31mSyntaxError\u001b[0m\u001b[0;31m:\u001b[0m unterminated string literal (detected at line 68)\n"
     ]
    }
   ],
   "source": [
    "from selenium import webdriver\n",
    "from selenium.webdriver.chrome.service import Service\n",
    "from selenium.webdriver.chrome.options import Options\n",
    "from selenium.webdriver.common.by import By\n",
    "from webdriver_manager.chrome import ChromeDriverManager\n",
    "import pickle\n",
    "import time\n",
    "\n",
    "options = Options()\n",
    "options.add_argument(\"--start-maximized\")\n",
    "options.add_argument(\"window-size=1920x1080\")\n",
    "options.add_argument(\"lang=ko_KR\")\n",
    "\n",
    "service = Service(ChromeDriverManager().install())\n",
    "\n",
    "driver = webdriver.Chrome(service=service, options=options)\n",
    "\n",
    "driver.get(\"https://www.instagram.com\")\n",
    "\n",
    "with open(\"instagram_cookies.pkl\", \"rb\") as f :\n",
    "    cookies = pickle.load(f)\n",
    "for cookie in cookies :\n",
    "    driver.add_cookie(cookie)\n",
    "\n",
    "driver.refresh()\n",
    "time.sleep(5)\n",
    "\n",
    "try :\n",
    "    not_now = driver.find_element(By.XPATH, \"//button[text()='나중에 하기']\")\n",
    "    not_now.click()\n",
    "    time.sleep(2)\n",
    "except :\n",
    "    pass\n",
    "\n",
    "keyword = \"무신사\"\n",
    "driver.get(f\"https://www.instagram.com/explore/tags/{keyword}\")\n",
    "time.sleep(5)\n",
    "\n",
    "post_links = set()\n",
    "for _ in range(3) :\n",
    "    links = driver.find_elements(By.TAG_NAME, \"a\")\n",
    "    for link in links :\n",
    "        href = link.get_attribute(\"href\")\n",
    "        if href and \"/p/\" in href :\n",
    "            post_links.add(href)\n",
    "    driver.execute_script(\"window.scrollTo(0, document.body.scrollHeight);\")\n",
    "    time.sleep(3)\n",
    "\n",
    "results = []\n",
    "for url in list(post_links)[:10] :\n",
    "    driver.get(url)\n",
    "    time.sleep(3)\n",
    "    caption = \"\"\n",
    "\n",
    "    try :\n",
    "        img_tag = driver.find_element(By.XPATH, \"//img[@alt]\")\n",
    "        caption = img_tag.get_attribute(\"alt\").strip()\n",
    "        results.append({\"url\": url, \"caption\": caption})\n",
    "    except Exception as e :\n",
    "        print(f\"캡션 추출 실패 : {url} | 에러 : {e}\")\n",
    "        continue\n",
    "        \n",
    "driver.quit()\n",
    "\n",
    "for r in results :\n",
    "    print(r[\"url\"])\n",
    "    print(r[\"caption\"])\n",
    "    print(\"=\"*60)"
   ]
  },
  {
   "cell_type": "code",
   "execution_count": null,
   "id": "dca43301-b3ce-4945-ad57-d57960289c13",
   "metadata": {},
   "outputs": [],
   "source": []
  }
 ],
 "metadata": {
  "kernelspec": {
   "display_name": "Python [conda env:base] *",
   "language": "python",
   "name": "conda-base-py"
  },
  "language_info": {
   "codemirror_mode": {
    "name": "ipython",
    "version": 3
   },
   "file_extension": ".py",
   "mimetype": "text/x-python",
   "name": "python",
   "nbconvert_exporter": "python",
   "pygments_lexer": "ipython3",
   "version": "3.13.5"
  }
 },
 "nbformat": 4,
 "nbformat_minor": 5
}
