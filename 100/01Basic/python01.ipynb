{
 "cells": [
  {
   "cell_type": "markdown",
   "id": "f3643662-8349-4842-99aa-0a1ea5fc934a",
   "metadata": {},
   "source": [
    "### 1. 네이버 뉴스에서 '디지털 마케팅' 키워드로 검색한 뉴스 제목 10개를 수집하세요."
   ]
  },
  {
   "cell_type": "code",
   "execution_count": 4,
   "id": "553cf813-2dcc-48c7-be4d-769bf1e7ef5e",
   "metadata": {},
   "outputs": [
    {
     "name": "stdout",
     "output_type": "stream",
     "text": [
      "1. 한컴위드, 다날과 차세대 디지털 금융 서비스 시장 공동 공략\n",
      "2. JT저축은행-한국폴리텍대학, 디지털 역량 강화 위한 챗GPT 교육\n",
      "3. 조선대, 인도네시아 에어랑가대학 대상 치과기술 마케팅 연수 개최\n",
      "4. SOOP, 2Q 영업익 300억·9.9%↓…'마케팅·인건비' 상승 영향\n",
      "5. 롯데·신라免, 타겟 마케팅으로 부진 속 돌파구 찾는다\n",
      "6. 국민체육진흥공단, '전국 대학생 스포츠 마케팅 경진 대회' 개최\n",
      "7. 진화하는 은행 캐릭터 마케팅…신한은행 \"금융 여정 동행 경험 심는다\"\n",
      "8. 다날·한컴위드, 스테이블코인 전자금융 사업 본격화 …\"시장 최적화 디...\n",
      "9. [Biz-inside,China] 쑥쑥 크는 中 전자상거래, AI로 무장하다…상담·마케...\n",
      "10. 정읍시, 지황 농산물 가공식품 온라인 마케팅 강화교육 수료\n"
     ]
    }
   ],
   "source": [
    "import requests\n",
    "from bs4 import BeautifulSoup\n",
    "\n",
    "query = \"디지털 마케팅\"\n",
    "url = f\"https://search.naver.com/search.naver?where=news&query={query}\"\n",
    "\n",
    "headers = {\n",
    "    \"User-Agent\": \"Mozilla/5.0 (Macintosh; Intel Mac OS X 10_15_7) AppleWebKit/537.36 (KHTML, like Gecko) Chrome/138.0.0.0 Safari/537.36\"\n",
    "}\n",
    "\n",
    "response = requests.get(url, headers=headers)\n",
    "soup = BeautifulSoup(response.text, \"html.parser\")\n",
    "\n",
    "titles = soup.select(\"a.ox1N67gcMkHhMh7hbfHi.VZxw34rcBHTWHgERxv0b\")\n",
    "\n",
    "for i, title in enumerate(titles[:10], 1) :\n",
    "    print(f\"{i}. {title.text.strip()}\")"
   ]
  },
  {
   "cell_type": "markdown",
   "id": "4f2c9cc9-66d8-489f-af60-7b889d71f2e6",
   "metadata": {},
   "source": [
    "### 2. 다음 뉴스에서 IT 섹션의 기사 제목과 링크를 수집하세요."
   ]
  },
  {
   "cell_type": "code",
   "execution_count": 7,
   "id": "093a6186-62f7-4cf1-b926-280b5dea10a4",
   "metadata": {},
   "outputs": [
    {
     "name": "stdout",
     "output_type": "stream",
     "text": [
      "1. 수천만 개 사내문서도 ‘뚝딱’…日서 난리 난 AI가 국내산? '시간이 없는데 언제 일일히 사내 문서를 찾아보지.' 이 같이 대다수 직장인들이 하는 업무의 비효율성 문제를 해결한 기업이 있다. 코딩 없이 AI를 활용할 수 있게 만든 ‘노코드 AI 플랫폼’을 전면에 앞세우면서다. 이 기업은 자체 기술로 일본 기업용 AI 시장을 단숨에 장악하고 있다. 엔터프라이즈 특화 생성형 AI 솔루션 기업 올거나이즈는 자사의 LLM 한국경제 2분 전 - https://v.daum.net/v/20250730141204652\n",
      "2. 하반기 줄잇는 신작게임에 'MMORPG' 부활…\"사활 걸었다\" 머니투데이 2분 전 - https://v.daum.net/v/20250730141146624\n",
      "3. 뜨거운 감자 '게임 질병코드'… 문체-복지, 엇갈린 답변에 대립각 재점화 전자신문 3분 전 - https://v.daum.net/v/20250730141104596\n",
      "4. AI로 디지털 자신감 키운다…과학동아AiR 수업에서 몰입 효과 확인 동아사이언스 6분 전 - https://v.daum.net/v/20250730140804479\n",
      "5. 네이처 “中 인재 유치 정책, 연구 능력 높였지만 내부 균열도 심화” 조선비즈 11분 전 - https://v.daum.net/v/20250730140257231\n",
      "6. 폭염·열대야에도 생체 시계 고장 없는 이유…[달콤한 사이언스] 서울신문 12분 전 - https://v.daum.net/v/20250730140204159\n",
      "7. [人사이트] 전명준 KT 데이터서비스담당 “디도스 공격 대형화 추세…클린존으로 기업 보안관될 것” 전자신문 21분 전 - https://v.daum.net/v/20250730135300778\n",
      "8. 냅킨에 적은 아이디어가 5년 뒤 논문으로…\"수학연구의 시작은 대화\" 동아사이언스 26분 전 - https://v.daum.net/v/20250730134747596\n",
      "9. 로아 요아정 \"날도 더우니 한 번쯤 먹어볼 만 하다\" 게임톡 49분 전 - https://v.daum.net/v/20250730132454565\n"
     ]
    }
   ],
   "source": [
    "import requests\n",
    "from bs4 import BeautifulSoup\n",
    "\n",
    "url = \"https://news.daum.net/tech\"\n",
    "\n",
    "headers = {\n",
    "    \"User-Agent\": \"Mozilla/5.0 (Macintosh; Intel Mac OS X 10_15_7) AppleWebKit/537.36 (KHTML, like Gecko) Chrome/138.0.0.0 Safari/537.36\"\n",
    "}\n",
    "\n",
    "response = requests.get(url, headers=headers)\n",
    "response.encoding = \"utf-8\"\n",
    "soup = BeautifulSoup(response.text, \"html.parser\")\n",
    "\n",
    "articles = soup.select(\"ul.list_newsheadline2 li a.item_newsheadline2\")\n",
    "\n",
    "for i, article in enumerate(articles, 1) :\n",
    "    title = article.text.strip()\n",
    "    link = article[\"href\"]\n",
    "    print(f\"{i}. {title} - {link}\")"
   ]
  },
  {
   "cell_type": "markdown",
   "id": "35f52a1c-a4c2-41ec-86f5-9bafba2ccbf3",
   "metadata": {},
   "source": [
    "### 3. yes24의 경제 베스트셀러 1~10위 도서 제목과 저자를 수집하세요."
   ]
  },
  {
   "cell_type": "code",
   "execution_count": 12,
   "id": "9acc07d9-262a-4483-9bdf-6ee609e727a6",
   "metadata": {},
   "outputs": [
    {
     "name": "stdout",
     "output_type": "stream",
     "text": [
      "1. 자본주의 - EBS 〈자본주의〉제작팀, 정지은, 고희정 저/EBS MEDIA 기획\n",
      "2. 생각에 관한 생각 - 대니얼 카너먼 저/이창신 역\n",
      "3. 더 그레이트 비트코인 - 오태민 저\n",
      "4. 부의 추월차선 (10주년 스페셜 에디션) - 엠제이 드마코 저/신소영 역\n",
      "5. 레버리지 - 롭 무어 저/김유미 역\n",
      "6. 달러는 왜 비트코인을 싫어하는가 - 사이페딘 아모스 저/위대선 역\n",
      "7. 넛지: 파이널 에디션 - 리처드 탈러, 캐스 선스타인 저/이경식 역/최정규 감수\n",
      "8. 시대예보: 핵개인의 시대 - 송길영 저\n",
      "9. 일할 사람이 사라진다 - 이철희 저\n",
      "10. 경제신문이 말하지 않는 경제 이야기 - 임주영 저\n"
     ]
    }
   ],
   "source": [
    "import requests\n",
    "from bs4 import BeautifulSoup\n",
    "\n",
    "url = \"https://www.yes24.com/product/category/steadyseller?categoryNumber=001001025007\"\n",
    "\n",
    "headers = {\n",
    "    \"User-Agent\": \"Mozilla/5.0 (Macintosh; Intel Mac OS X 10_15_7) AppleWebKit/537.36 (KHTML, like Gecko) Chrome/138.0.0.0 Safari/537.36\"\n",
    "}\n",
    "\n",
    "response = requests.get(url, headers=headers)\n",
    "response.encoding = \"utf-8\"\n",
    "soup = BeautifulSoup(response.text, \"html.parser\")\n",
    "\n",
    "books = soup.select(\"ul#yesBestList > li\")\n",
    "\n",
    "\n",
    "\n",
    "for i, book in enumerate(books[:10], 1) :\n",
    "    title_tag = book.select_one(\"div.info_row.info_name a.gd_name\")\n",
    "    author_tag = book.select_one(\"span.authPub.info_auth\")\n",
    "\n",
    "    if title_tag and author_tag :\n",
    "        title = title_tag.text.strip()\n",
    "        author = author_tag.text.strip()\n",
    "        print(f\"{i}. {title} - {author}\")"
   ]
  },
  {
   "cell_type": "markdown",
   "id": "af0a641c-0502-4bde-85f6-5107a0706469",
   "metadata": {},
   "source": [
    "### 4. 기상청 날씨 페이지에서 오늘의 전국 날씨 요약을 추출하세요."
   ]
  },
  {
   "cell_type": "code",
   "execution_count": 13,
   "id": "d0f16b41-8963-4004-a559-5d35b6b67f59",
   "metadata": {},
   "outputs": [
    {
     "name": "stdout",
     "output_type": "stream",
     "text": [
      "오늘의 전국 날씨 요약 : \n",
      "□  (종합) 당분간 무더위와 열대야 주의, 전남해안과 경남남해안, 제주도해안 너울 유의\n"
     ]
    }
   ],
   "source": [
    "import requests\n",
    "from bs4 import BeautifulSoup\n",
    "\n",
    "url = \"https://www.weather.go.kr/w/weather/forecast/short-term.do\"\n",
    "\n",
    "headers = {\n",
    "    \"User-Agent\": \"Mozilla/5.0 (Macintosh; Intel Mac OS X 10_15_7) AppleWebKit/537.36 (KHTML, like Gecko) Chrome/138.0.0.0 Safari/537.36\"\n",
    "}\n",
    "\n",
    "response = requests.get(url, headers=headers)\n",
    "response.encoding = \"utf-8\"\n",
    "soup = BeautifulSoup(response.text, \"html.parser\")\n",
    "\n",
    "summary_tag = soup.select_one(\"div.cmp-view-content > p.summary > span.depth_1\")\n",
    "\n",
    "if summary_tag :\n",
    "    print(\"오늘의 전국 날씨 요약 : \")\n",
    "    print(summary_tag.text.strip())\n",
    "else :\n",
    "    print(\"날씨 요약 정보를 찾을 수 없습니다!\")"
   ]
  },
  {
   "cell_type": "markdown",
   "id": "001e4b62-fe76-47df-9245-08a6833d6c60",
   "metadata": {},
   "source": [
    "### 5. 잡코리아에서 '데이터 분석가' 직무 공고 제목 20개를 수집하세요."
   ]
  },
  {
   "cell_type": "code",
   "execution_count": 14,
   "id": "cf2a9369-67bd-450f-94c7-651168daa49e",
   "metadata": {},
   "outputs": [
    {
     "name": "stdout",
     "output_type": "stream",
     "text": [
      "1. 데이터 분석가 (경력)\n",
      "2. 데이터 분석가\n",
      "3. [CVS] 데이터 분석가(Business Analyst)\n",
      "4. [쿡앱스] 게임 데이터 분석가 모집\n",
      "5. [기어세컨드] 데이터 분석가 채용\n",
      "6. 데이터 애널리스트 / 데이터분석 전문가 / 통계 전문가 / Data Analyst (통\n",
      "7. Data Analyst (데이터 분석가)\n",
      "8. [CVS] 데이터 분석가 1년 인턴 (Business Analyst Intern)\n",
      "9. [인텔리전스랩스그룹] 데이터 분석가 (인게임 로그 및 비즈니스 인사이트 분석)\n",
      "10. 데이터 분석가(신입/경력)\n",
      "11. 공공데이터 품질 관리와 진단, 데이터 분석가\n",
      "12. [다우키움 계열사] 데이터 분석가 (경력)\n",
      "13. [통계팀] 데이터 분석가 모집\n",
      "14. [커머스플랫폼팀] 데이터 분석 전문가 (Senior Data Analyst) 모집\n",
      "15. [디저트39] 데이터 분석가(Data Analyst)/데이터 분석 엔지니어 팀장급\n",
      "16. 데이터분석가 구인\n",
      "17. [어니컴(주)] 데이터분석가 신입/경력 모집\n",
      "18. [(중급이상/ 경력직)] 빅데이터 전문가를 모십니다\n",
      "19. 데이터분석가 채용(경력)\n",
      "20. [리비바이오] 데이터분석가\n"
     ]
    }
   ],
   "source": [
    "import requests\n",
    "from bs4 import BeautifulSoup\n",
    "\n",
    "query = \"데이터 분석가\"\n",
    "url = f\"https://www.jobkorea.co.kr/Search/?stext={query}\"\n",
    "\n",
    "headers = {\n",
    "    \"User-Agent\": \"Mozilla/5.0 (Macintosh; Intel Mac OS X 10_15_7) AppleWebKit/537.36 (KHTML, like Gecko) Chrome/138.0.0.0 Safari/537.36\"\n",
    "}\n",
    "\n",
    "response = requests.get(url, headers=headers)\n",
    "response.encoding = \"utf-8\"\n",
    "soup = BeautifulSoup(response.text, \"html.parser\")\n",
    "\n",
    "titles = soup.select(\"div.styles_mb_space8__dk46ts1p a.sn28bt0\")\n",
    "\n",
    "for i, title_tag in enumerate(titles[:20], 1) :\n",
    "    print(f\"{i}. {title_tag.text.strip()}\")"
   ]
  },
  {
   "cell_type": "markdown",
   "id": "80ad8ae7-de31-4fc0-a46d-c0006c71b2c3",
   "metadata": {},
   "source": [
    "### 6. 잡코리아에서 '데이터 분석가' 직무 공고 제목을 수집하세요.\n",
    "- 셀레니움 코드로 크롤링 하기\n",
    "- 6개 페이지 > 서울지역 > 경력 1~3년차만 크롤링 해오기\n",
    "- 엑셀로 출력 (*해당 공고 타이틀과 지원할 수 있는 URL 링크)"
   ]
  },
  {
   "cell_type": "code",
   "execution_count": 19,
   "id": "d775d09b-1e74-4a69-bb18-55962c08d1c9",
   "metadata": {},
   "outputs": [
    {
     "name": "stdout",
     "output_type": "stream",
     "text": [
      "엑셀 저장 완료!\n"
     ]
    }
   ],
   "source": [
    "from selenium import webdriver\n",
    "from selenium.webdriver.chrome.service import Service\n",
    "from selenium.webdriver.chrome.options import Options\n",
    "from selenium.webdriver.common.by import By\n",
    "from webdriver_manager.chrome import ChromeDriverManager\n",
    "import time\n",
    "import urllib.parse\n",
    "import pandas as pd\n",
    "\n",
    "service = Service(ChromeDriverManager().install())\n",
    "\n",
    "options = Options()\n",
    "options.add_argument(\"--headless\")\n",
    "options.add_argument(\"--window-size=1920x1080\")\n",
    "options.add_argument(\"--start-maximized\")\n",
    "options.add_argument(\"--user-agent=Mozilla/5.0 (Macintosh; Intel Mac OS X 10_15_7) AppleWebKit/537.36 (KHTML, like Gecko) Chrome/138.0.0.0 Safari/537.36\")\n",
    "options.add_argument(\"--lang=ko_KR\")\n",
    "\n",
    "driver = webdriver.Chrome(service=service, options=options)\n",
    "\n",
    "query = \"데이터 분석가\"\n",
    "encoded_query = urllib.parse.quote(query)\n",
    "\n",
    "max_pages = 6\n",
    "\n",
    "results = []\n",
    "\n",
    "for page in range(1, max_pages + 1) :\n",
    "    url = f\"https://www.jobkorea.co.kr/Search?stext={encoded_query}&Page_No={page}&local=I000&tabType=recruit&careerType=1\"\n",
    "    driver.get(url)\n",
    "    time.sleep(2)\n",
    "\n",
    "    job_posts = driver.find_elements(By.CSS_SELECTOR, \"div.styles_mb_space8__dk46ts1p\")\n",
    "    for post in job_posts :\n",
    "        try :\n",
    "            title_elem = post.find_element(By.CSS_SELECTOR, \"a.sn28bt0\")\n",
    "            title = title_elem.text.strip()\n",
    "            link = title_elem.get_attribute(\"href\")\n",
    "            results.append({\n",
    "                \"제목\" : title,\n",
    "                \"지원링크\" : link\n",
    "            })\n",
    "        except :\n",
    "            continue\n",
    "            \n",
    "driver.quit()\n",
    "\n",
    "df = pd.DataFrame(results)\n",
    "df.to_excel(\"잡코리아_데이터분석가_서울_신입_3페이지.xlsx\", index=False)\n",
    "print(\"엑셀 저장 완료!\")"
   ]
  }
 ],
 "metadata": {
  "kernelspec": {
   "display_name": "Python [conda env:base] *",
   "language": "python",
   "name": "conda-base-py"
  },
  "language_info": {
   "codemirror_mode": {
    "name": "ipython",
    "version": 3
   },
   "file_extension": ".py",
   "mimetype": "text/x-python",
   "name": "python",
   "nbconvert_exporter": "python",
   "pygments_lexer": "ipython3",
   "version": "3.13.5"
  }
 },
 "nbformat": 4,
 "nbformat_minor": 5
}
