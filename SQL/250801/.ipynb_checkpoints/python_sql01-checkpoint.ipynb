{
 "cells": [
  {
   "cell_type": "code",
   "execution_count": 3,
   "id": "b3b68cd1-afac-49d0-92d5-f45675d7faa6",
   "metadata": {},
   "outputs": [
    {
     "name": "stdout",
     "output_type": "stream",
     "text": [
      "<selenium.webdriver.remote.webelement.WebElement (session=\"d5218ca21c64e00de4167da263abb5a5\", element=\"f.E5C79AD9A02FE3891A44B9DAC0E7CDAD.d.60D4E01E83EA8F3EC5B4F086724C6E08.e.47\")>\n",
      "[<selenium.webdriver.remote.webelement.WebElement (session=\"d5218ca21c64e00de4167da263abb5a5\", element=\"f.E5C79AD9A02FE3891A44B9DAC0E7CDAD.d.60D4E01E83EA8F3EC5B4F086724C6E08.e.84\")>, <selenium.webdriver.remote.webelement.WebElement (session=\"d5218ca21c64e00de4167da263abb5a5\", element=\"f.E5C79AD9A02FE3891A44B9DAC0E7CDAD.d.60D4E01E83EA8F3EC5B4F086724C6E08.e.85\")>, <selenium.webdriver.remote.webelement.WebElement (session=\"d5218ca21c64e00de4167da263abb5a5\", element=\"f.E5C79AD9A02FE3891A44B9DAC0E7CDAD.d.60D4E01E83EA8F3EC5B4F086724C6E08.e.86\")>, <selenium.webdriver.remote.webelement.WebElement (session=\"d5218ca21c64e00de4167da263abb5a5\", element=\"f.E5C79AD9A02FE3891A44B9DAC0E7CDAD.d.60D4E01E83EA8F3EC5B4F086724C6E08.e.87\")>, <selenium.webdriver.remote.webelement.WebElement (session=\"d5218ca21c64e00de4167da263abb5a5\", element=\"f.E5C79AD9A02FE3891A44B9DAC0E7CDAD.d.60D4E01E83EA8F3EC5B4F086724C6E08.e.88\")>, <selenium.webdriver.remote.webelement.WebElement (session=\"d5218ca21c64e00de4167da263abb5a5\", element=\"f.E5C79AD9A02FE3891A44B9DAC0E7CDAD.d.60D4E01E83EA8F3EC5B4F086724C6E08.e.89\")>, <selenium.webdriver.remote.webelement.WebElement (session=\"d5218ca21c64e00de4167da263abb5a5\", element=\"f.E5C79AD9A02FE3891A44B9DAC0E7CDAD.d.60D4E01E83EA8F3EC5B4F086724C6E08.e.90\")>, <selenium.webdriver.remote.webelement.WebElement (session=\"d5218ca21c64e00de4167da263abb5a5\", element=\"f.E5C79AD9A02FE3891A44B9DAC0E7CDAD.d.60D4E01E83EA8F3EC5B4F086724C6E08.e.91\")>, <selenium.webdriver.remote.webelement.WebElement (session=\"d5218ca21c64e00de4167da263abb5a5\", element=\"f.E5C79AD9A02FE3891A44B9DAC0E7CDAD.d.60D4E01E83EA8F3EC5B4F086724C6E08.e.92\")>, <selenium.webdriver.remote.webelement.WebElement (session=\"d5218ca21c64e00de4167da263abb5a5\", element=\"f.E5C79AD9A02FE3891A44B9DAC0E7CDAD.d.60D4E01E83EA8F3EC5B4F086724C6E08.e.93\")>] [<selenium.webdriver.remote.webelement.WebElement (session=\"d5218ca21c64e00de4167da263abb5a5\", element=\"f.E5C79AD9A02FE3891A44B9DAC0E7CDAD.d.60D4E01E83EA8F3EC5B4F086724C6E08.e.94\")>, <selenium.webdriver.remote.webelement.WebElement (session=\"d5218ca21c64e00de4167da263abb5a5\", element=\"f.E5C79AD9A02FE3891A44B9DAC0E7CDAD.d.60D4E01E83EA8F3EC5B4F086724C6E08.e.95\")>, <selenium.webdriver.remote.webelement.WebElement (session=\"d5218ca21c64e00de4167da263abb5a5\", element=\"f.E5C79AD9A02FE3891A44B9DAC0E7CDAD.d.60D4E01E83EA8F3EC5B4F086724C6E08.e.96\")>, <selenium.webdriver.remote.webelement.WebElement (session=\"d5218ca21c64e00de4167da263abb5a5\", element=\"f.E5C79AD9A02FE3891A44B9DAC0E7CDAD.d.60D4E01E83EA8F3EC5B4F086724C6E08.e.97\")>, <selenium.webdriver.remote.webelement.WebElement (session=\"d5218ca21c64e00de4167da263abb5a5\", element=\"f.E5C79AD9A02FE3891A44B9DAC0E7CDAD.d.60D4E01E83EA8F3EC5B4F086724C6E08.e.98\")>, <selenium.webdriver.remote.webelement.WebElement (session=\"d5218ca21c64e00de4167da263abb5a5\", element=\"f.E5C79AD9A02FE3891A44B9DAC0E7CDAD.d.60D4E01E83EA8F3EC5B4F086724C6E08.e.99\")>, <selenium.webdriver.remote.webelement.WebElement (session=\"d5218ca21c64e00de4167da263abb5a5\", element=\"f.E5C79AD9A02FE3891A44B9DAC0E7CDAD.d.60D4E01E83EA8F3EC5B4F086724C6E08.e.100\")>, <selenium.webdriver.remote.webelement.WebElement (session=\"d5218ca21c64e00de4167da263abb5a5\", element=\"f.E5C79AD9A02FE3891A44B9DAC0E7CDAD.d.60D4E01E83EA8F3EC5B4F086724C6E08.e.101\")>, <selenium.webdriver.remote.webelement.WebElement (session=\"d5218ca21c64e00de4167da263abb5a5\", element=\"f.E5C79AD9A02FE3891A44B9DAC0E7CDAD.d.60D4E01E83EA8F3EC5B4F086724C6E08.e.102\")>, <selenium.webdriver.remote.webelement.WebElement (session=\"d5218ca21c64e00de4167da263abb5a5\", element=\"f.E5C79AD9A02FE3891A44B9DAC0E7CDAD.d.60D4E01E83EA8F3EC5B4F086724C6E08.e.103\")>] [<selenium.webdriver.remote.webelement.WebElement (session=\"d5218ca21c64e00de4167da263abb5a5\", element=\"f.E5C79AD9A02FE3891A44B9DAC0E7CDAD.d.60D4E01E83EA8F3EC5B4F086724C6E08.e.104\")>, <selenium.webdriver.remote.webelement.WebElement (session=\"d5218ca21c64e00de4167da263abb5a5\", element=\"f.E5C79AD9A02FE3891A44B9DAC0E7CDAD.d.60D4E01E83EA8F3EC5B4F086724C6E08.e.105\")>, <selenium.webdriver.remote.webelement.WebElement (session=\"d5218ca21c64e00de4167da263abb5a5\", element=\"f.E5C79AD9A02FE3891A44B9DAC0E7CDAD.d.60D4E01E83EA8F3EC5B4F086724C6E08.e.106\")>, <selenium.webdriver.remote.webelement.WebElement (session=\"d5218ca21c64e00de4167da263abb5a5\", element=\"f.E5C79AD9A02FE3891A44B9DAC0E7CDAD.d.60D4E01E83EA8F3EC5B4F086724C6E08.e.107\")>, <selenium.webdriver.remote.webelement.WebElement (session=\"d5218ca21c64e00de4167da263abb5a5\", element=\"f.E5C79AD9A02FE3891A44B9DAC0E7CDAD.d.60D4E01E83EA8F3EC5B4F086724C6E08.e.108\")>, <selenium.webdriver.remote.webelement.WebElement (session=\"d5218ca21c64e00de4167da263abb5a5\", element=\"f.E5C79AD9A02FE3891A44B9DAC0E7CDAD.d.60D4E01E83EA8F3EC5B4F086724C6E08.e.109\")>, <selenium.webdriver.remote.webelement.WebElement (session=\"d5218ca21c64e00de4167da263abb5a5\", element=\"f.E5C79AD9A02FE3891A44B9DAC0E7CDAD.d.60D4E01E83EA8F3EC5B4F086724C6E08.e.110\")>, <selenium.webdriver.remote.webelement.WebElement (session=\"d5218ca21c64e00de4167da263abb5a5\", element=\"f.E5C79AD9A02FE3891A44B9DAC0E7CDAD.d.60D4E01E83EA8F3EC5B4F086724C6E08.e.111\")>, <selenium.webdriver.remote.webelement.WebElement (session=\"d5218ca21c64e00de4167da263abb5a5\", element=\"f.E5C79AD9A02FE3891A44B9DAC0E7CDAD.d.60D4E01E83EA8F3EC5B4F086724C6E08.e.112\")>, <selenium.webdriver.remote.webelement.WebElement (session=\"d5218ca21c64e00de4167da263abb5a5\", element=\"f.E5C79AD9A02FE3891A44B9DAC0E7CDAD.d.60D4E01E83EA8F3EC5B4F086724C6E08.e.113\")>]\n"
     ]
    }
   ],
   "source": [
    "from selenium import webdriver\n",
    "from selenium.webdriver.chrome.options import Options\n",
    "from selenium.webdriver.chrome.service import Service\n",
    "from selenium.webdriver.common.by import By\n",
    "from webdriver_manager.chrome import ChromeDriverManager\n",
    "import time\n",
    "import pandas as pd\n",
    "\n",
    "service = Service(ChromeDriverManager().install())\n",
    "\n",
    "options = Options()\n",
    "options.add_argument(\"--headless\")\n",
    "options.add_argument(\"--window-size=1920x1080\")\n",
    "options.add_argument(\"--lang=ko_KR\")\n",
    "options.add_argument(\"--start-maximized\")\n",
    "options.add_argument(\"--user-agent=Mozilla/5.0 (Macintosh; Intel Mac OS X 10_15_7) AppleWebKit/537.36 (KHTML, like Gecko) Chrome/138.0.0.0 Safari/537.36\")\n",
    "\n",
    "driver = webdriver.Chrome(service=service, options=options)\n",
    "\n",
    "url = \"https://tickets.interpark.com/contents/genre/concert\"\n",
    "driver.get(url)\n",
    "time.sleep(2)\n",
    "\n",
    "try :\n",
    "    hot_button = driver.find_element(By.XPATH, \"//button[contains(text(), '요즘 HOT')]\")\n",
    "    print(hot_button)\n",
    "    hot_button.click()\n",
    "    time.sleep(2)\n",
    "    \n",
    "except Exception as e :\n",
    "    print(\"요즘 HOT 버튼 클릭 실패 : \", e)\n",
    "\n",
    "scroll_pause = 1\n",
    "last_height = driver.execute_script(\"return document.body.scrollHeight\")\n",
    "\n",
    "for _ in range(5) :\n",
    "    driver.execute_script(\"window.scrollTo(0, document.body.scrollHeight);\")\n",
    "    time.sleep(scroll_pause)\n",
    "    new_height = driver.execute_script(\"return document.body.scrollHeight\")\n",
    "    if new_height == last_height :\n",
    "        break\n",
    "    last_height = new_height\n",
    "\n",
    "titles = driver.find_elements(By.CSS_SELECTOR, \".TicketItem_goodsName__Ju76j\")\n",
    "dates = driver.find_elements(By.CSS_SELECTOR, \".TicketItem_playDate__5ePr2\")\n",
    "places = driver.find_elements(By.CSS_SELECTOR, \".TicketItem_placeName__ls_9C\")\n",
    "\n",
    "data = []\n",
    "\n",
    "for t, d, p in zip(titles, dates, places) :\n",
    "    data.append({\n",
    "        \"title\":t.text.strip(),\n",
    "        \"date\":d.text.strip(),\n",
    "        \"place\":p.text.strip()\n",
    "    })"
   ]
  }
 ],
 "metadata": {
  "kernelspec": {
   "display_name": "Python [conda env:base] *",
   "language": "python",
   "name": "conda-base-py"
  },
  "language_info": {
   "codemirror_mode": {
    "name": "ipython",
    "version": 3
   },
   "file_extension": ".py",
   "mimetype": "text/x-python",
   "name": "python",
   "nbconvert_exporter": "python",
   "pygments_lexer": "ipython3",
   "version": "3.13.5"
  }
 },
 "nbformat": 4,
 "nbformat_minor": 5
}
