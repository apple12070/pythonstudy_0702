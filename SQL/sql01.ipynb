{
 "cells": [
  {
   "cell_type": "markdown",
   "id": "dc35dade-2edd-453e-a2bd-742d669d3c5b",
   "metadata": {},
   "source": [
    "### SQL 학습 전, 반드시 알고가야하는 개념정의\n",
    "1. 데이터 (Data)\n",
    "2. 데이터베이스 (Database)\n",
    "3. 스키마 (Schema)\n",
    "4. 테이블 (Table)\n",
    "5. SQL"
   ]
  },
  {
   "cell_type": "markdown",
   "id": "c506151f-0b32-4200-8149-9dd7e6ed390a",
   "metadata": {},
   "source": [
    "#### 1. 데이터 (Data)\n",
    "- 수집 가능한 값, 사실, 기록물 등의 \"원초적인 정보\"\n",
    "- 숫자 : 23, 5.9\n",
    "- 문자 : \"David\", \"2025-07-31\"\n",
    "- 상태 : True, False\n",
    "- 데이터 그 자체로는 의미가 부족 -> 구조화가 되어야 데이터는 비로소 가치를 갖게 됨"
   ]
  },
  {
   "cell_type": "markdown",
   "id": "374c5331-1a8b-48a9-b5f8-e198166d1cb1",
   "metadata": {},
   "source": [
    "#### 2. 데이터베이스 (Database = DB)\n",
    "- 여러가지 다양한 데이터를 구조적이고 체계적으로 저장 및 관리할 수 있도록 해주는 저장소\n",
    "- 종류\n",
    "  - 관계형 데이터베이스 (RDBMS -> Oracle // MySQL)\n",
    "  - 비관계형 데이터베이스 (DMBS -> MongoDB)\n",
    "- 오프라인 가게를 운영하는데 일일 고객 주문정보, 특정 기간동안 사용한 재고 수량 등"
   ]
  },
  {
   "cell_type": "markdown",
   "id": "0ef20dbf-212b-4fee-a49f-429d7070d2a8",
   "metadata": {},
   "source": [
    "#### 3.스키마 (Schema)\n",
    "- 데이터베이스의 구조를 정의한 것\n",
    "- 데이터베이스를 어떻게 구조화할 것인지를 정의해놓은 일종의 설계도\n",
    "- 스키마는 데이터베이스 내부에 존재하는 논리적 구조"
   ]
  },
  {
   "cell_type": "markdown",
   "id": "8e6593e7-7e83-4145-863f-8a338ec43307",
   "metadata": {},
   "source": [
    "#### 4. 테이블 (Table)\n",
    "- 관계형 데이터베이스 안에 저장된 실제 데이터의 저장 단위\n",
    "- 구성요소\n",
    "  - 열 (Column) = 속성 (ex. 고객의 나이, 성별, 이메일 등)\n",
    "  - 행 (Row) = 레코드 (ex. 한 명의 고객)"
   ]
  },
  {
   "cell_type": "markdown",
   "id": "caabe497-8bf0-4cda-b2b9-b70d858ab2c0",
   "metadata": {},
   "source": [
    "#### 5. SQL (Structured Query Language)\n",
    "- 관계형 데이터베이스를 정의, 조작, 제어 할 수 있도록 도와주는 표준 언어\n",
    "- 종류\n",
    "  - DDL(Data Definition Language) : CREATE, DROP, ALTER\n",
    "  - DML(Data Manipulation Language) : SELECT, INSERT, UPDATE, DELETE\n",
    "  - DCL(Data Control Language) : GRANT, REVOKE"
   ]
  },
  {
   "cell_type": "markdown",
   "id": "ec8c61f5-70c2-452c-8a98-dedf437ead78",
   "metadata": {},
   "source": [
    "#### 지금까지 설명한 내용에 대한 정리 & 요약\n",
    "\n",
    "- 데이터 : 가장 하위 개념. 원초적인 정보 의미\n",
    "- 테이블 : 해당 데이터를 담은 (*구조화) 틀\n",
    "- 스키마 : 이러한 테이블 간 관계를 정의한 설계도면\n",
    "- 데이터베이스 : 스키마의 개념 속에 존재하는 테이블이 포함된 상위 구조 및 개념\n",
    "- SQL : 이 모든 구조를 만들고, 조작하고, 제어할 수 있도록 해주는 언어"
   ]
  },
  {
   "cell_type": "markdown",
   "id": "d4fcce39-cfe7-490a-8f36-c5d14fae51c0",
   "metadata": {},
   "source": [
    "#### 지금까지 학습했던 데이터 수집 관련 프로그램 정의\n",
    "- 아나콘다 (Anaconda) : 파이썬 통합 관리 플랫폼\n",
    "  - 역할 : 파이썬 관련 다양한 라이브러리, 실행환경, 패키지 등을 종합적으로 제공해주는 플랫폼\n",
    "- 쥬피터 노트북 (Jupyter Notebook) : 파이썬 언어 코딩 프로그램\n",
    "- MySQL : 관계형 데이터 베이스 구조 공간을 설계하도록 지원해주는 관계형데이터 베이스 전문 프로그램\n",
    "- MySQL WorkBench : MySQL을 시각적으로 보면서 테이블을 설계하고 각각의 테이블간 관계를 설정할 수 있도록 도와주는 GUI방식의 보조 프로그램"
   ]
  },
  {
   "cell_type": "markdown",
   "id": "f219ebfb-26d0-448d-af7a-90ce65a5d77e",
   "metadata": {},
   "source": [
    "#### 프로그래밍 영역에서 꼭 알고 있어야 하는 상식\n",
    "- C : Create\n",
    "- R : Read\n",
    "- U : Update\n",
    "- D : Delete"
   ]
  },
  {
   "cell_type": "markdown",
   "id": "c2650c86-27a0-4de4-ab7b-b20be82579e2",
   "metadata": {},
   "source": [
    "#### 테이블 생성\n",
    "\n",
    "```\n",
    "CREATE TABLE 테이블이름 (\n",
    "    컬럼명 데이터형,\n",
    "    컬럼명 데이터형\n",
    "    ...\n",
    "    기본키 (*PRIMARY KEY)\n",
    ")\n",
    "```"
   ]
  },
  {
   "cell_type": "markdown",
   "id": "b14121f4-ee57-4597-a639-77e5d97e08ef",
   "metadata": {},
   "source": [
    "1. Dave 라는 DB 생성\n",
    "2. 해당 DB안에 다음과 같은 속성을 가지고 있는 테이블을 생성하세요.\n",
    "3. id, name, modelnumber, series\n",
    "4. id는 양의 정수값 & 필수값 & 자동증가\n",
    "5. name은 최대 50자까지 가능한 문자열 & 필수값\n",
    "6. modelnumber는 최대 15자까지 가능한 문자열 & 필수값\n",
    "7. series는 최대 30자까지 가능한 문자열 & 필수값\n",
    "8. 고유식별키는 id"
   ]
  },
  {
   "cell_type": "markdown",
   "id": "5d987630-d92b-41e0-b321-24638f48ab61",
   "metadata": {},
   "source": [
    "1. name의 최대 문자입력 값을 20으로 변경\n",
    "2. modelnumber 속성명을 model_number로 변경 & 최대 10자까지로 변경\n",
    "3. series 속성명을 model_type으로 변경 & 최대 10자까지로 변경"
   ]
  },
  {
   "cell_type": "markdown",
   "id": "01290195-3665-4829-ac49-0e3b72bedb1c",
   "metadata": {},
   "source": [
    "1. 기존 데이터베이스 내 mytable을 삭제하세요.\n",
    "2. model_info 라는 새로운 테이블을 만들어주세요.\n",
    "3. 해당 테이블 안에는 id, name, model_num, model_type의 속성값을 설정해주세요.\n",
    "4. 고유키는 id여야 하며, 필수값, 자동증가 속성 부여해주세요.\n",
    "5. name은 최대 20자까지 허용가능, 필수\n",
    "6. model_num는 최대 10자까지 허용가능, 필수\n",
    "7. model_type은 최대 10자까지 허용가능, 필수"
   ]
  },
  {
   "cell_type": "markdown",
   "id": "60052a21-d363-464e-a375-60878c79e67a",
   "metadata": {},
   "source": [
    "### DDL\n",
    "- CREATE DATABASE dbname\n",
    "- CREATE DATABASE IF NOT EXISTS dbname\n",
    "- SHOW DATABASES\n",
    "- USE dbname\n",
    "- CREATE TABLE tablename\n",
    "- DROP TABLE tablename\n",
    "- DROP TABLE IF EXISTS tablename\n",
    "- ALTER TABLE tablename ADD COLUMN 속성명 속성값;\n",
    "- ALTER TABLE tablename MODIFY COLUMN 속성명 속성값;\n",
    "- ALTER TABLE tablename CHANGE COLUMN 속성명A 속성명B 속성값;\n",
    "- ALTER TABLE tablename DROP COLUMN 속성명;"
   ]
  }
 ],
 "metadata": {
  "kernelspec": {
   "display_name": "Python [conda env:base] *",
   "language": "python",
   "name": "conda-base-py"
  },
  "language_info": {
   "codemirror_mode": {
    "name": "ipython",
    "version": 3
   },
   "file_extension": ".py",
   "mimetype": "text/x-python",
   "name": "python",
   "nbconvert_exporter": "python",
   "pygments_lexer": "ipython3",
   "version": "3.13.5"
  }
 },
 "nbformat": 4,
 "nbformat_minor": 5
}
